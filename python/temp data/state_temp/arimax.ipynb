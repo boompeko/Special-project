{
 "cells": [
  {
   "cell_type": "code",
   "execution_count": 1,
   "metadata": {},
   "outputs": [],
   "source": [
    "from sklearn.preprocessing import OneHotEncoder\n",
    "from sklearn.compose import ColumnTransformer\n",
    "from sklearn.model_selection import train_test_split\n",
    "from sklearn.metrics import mean_squared_error\n",
    "from sklearn.metrics import accuracy_score\n",
    "import matplotlib.pyplot as plt\n",
    "import numpy as np\n",
    "from sklearn.metrics import mean_squared_error\n",
    "\n",
    "import pandas as pd\n",
    "import os"
   ]
  },
  {
   "cell_type": "code",
   "execution_count": 2,
   "metadata": {},
   "outputs": [],
   "source": [
    "\n",
    "import statsmodels.api as sm\n",
    "\n",
    "\n",
    "\n",
    "\n"
   ]
  },
  {
   "cell_type": "code",
   "execution_count": 3,
   "metadata": {},
   "outputs": [],
   "source": [
    "train_data= pd.read_excel(\"all_past_year_paramater_include_yeild.xlsx\")\n",
    "train_data.drop(columns=[\"Unnamed: 0\"],inplace=True)"
   ]
  },
  {
   "cell_type": "code",
   "execution_count": 4,
   "metadata": {},
   "outputs": [
    {
     "name": "stderr",
     "output_type": "stream",
     "text": [
      "C:\\Users\\nancy\\AppData\\Local\\Temp\\ipykernel_5676\\1444070986.py:8: SettingWithCopyWarning: \n",
      "A value is trying to be set on a copy of a slice from a DataFrame\n",
      "\n",
      "See the caveats in the documentation: https://pandas.pydata.org/pandas-docs/stable/user_guide/indexing.html#returning-a-view-versus-a-copy\n",
      "  data_yield[\"Value (bu)\"][j] = float(number)\n"
     ]
    }
   ],
   "source": [
    "data_yield = pd.read_csv(\"WheatYield_reset.csv\")\n",
    "#將字串轉成浮點數\n",
    "for j in range(len(data_yield[\"Value (bu)\"])):\n",
    "    n = data_yield[\"Value (bu)\"][j].split(\",\")\n",
    "    number = ''\n",
    "    for k in n:\n",
    "        number += k\n",
    "        data_yield[\"Value (bu)\"][j] = float(number)"
   ]
  },
  {
   "cell_type": "code",
   "execution_count": 17,
   "metadata": {},
   "outputs": [],
   "source": [
    "import pandas as pd\n",
    "from sklearn.model_selection import train_test_split\n",
    "\n",
    "data_true = data_yield[[\"Value (bu)\", \"encode_state\"]].copy()\n",
    "train_data_with_dummy = pd.get_dummies(train_data, columns=[\"Encode\"])\n",
    "# 將特徵和目標變數分開"
   ]
  },
  {
   "cell_type": "code",
   "execution_count": 26,
   "metadata": {},
   "outputs": [],
   "source": [
    "endog=data_yield[\"Value (bu)\"][:int(round(0.8*(len(data_true)),0))].to_numpy(dtype=float)"
   ]
  },
  {
   "cell_type": "code",
   "execution_count": 23,
   "metadata": {},
   "outputs": [],
   "source": [
    "exog_v=train_data_with_dummy[:int(round(0.8*(len(train_data)),0))].to_numpy(dtype=float)"
   ]
  },
  {
   "cell_type": "code",
   "execution_count": 24,
   "metadata": {},
   "outputs": [],
   "source": [
    "endog.drop(columns=[\"Encode\"],inplace=True)\n"
   ]
  },
  {
   "cell_type": "code",
   "execution_count": 25,
   "metadata": {},
   "outputs": [],
   "source": [
    "endog.drop(columns=[\"Value (bu)\"],inplace=True)"
   ]
  },
  {
   "cell_type": "code",
   "execution_count": 60,
   "metadata": {},
   "outputs": [
    {
     "name": "stderr",
     "output_type": "stream",
     "text": [
      "c:\\Users\\nancy\\AppData\\Local\\Programs\\Python\\Python311\\Lib\\site-packages\\statsmodels\\tsa\\statespace\\sarimax.py:966: UserWarning: Non-stationary starting autoregressive parameters found. Using zeros as starting parameters.\n",
      "  warn('Non-stationary starting autoregressive parameters'\n",
      "c:\\Users\\nancy\\AppData\\Local\\Programs\\Python\\Python311\\Lib\\site-packages\\statsmodels\\tsa\\statespace\\sarimax.py:978: UserWarning: Non-invertible starting MA parameters found. Using zeros as starting parameters.\n",
      "  warn('Non-invertible starting MA parameters found.'\n"
     ]
    }
   ],
   "source": [
    "# 擬合 ARIMAX 模型\n",
    "model = sm.tsa.ARIMA(endog, exog=exog_v, order=(12, 1, 12))\n",
    "model_fit = model.fit()"
   ]
  },
  {
   "cell_type": "code",
   "execution_count": 48,
   "metadata": {},
   "outputs": [],
   "source": [
    "exog_forecast =train_data_with_dummy[-int(round(0.2*(len(train_data)),0)):].to_numpy(dtype=float)\n"
   ]
  },
  {
   "cell_type": "code",
   "execution_count": null,
   "metadata": {},
   "outputs": [],
   "source": [
    "endog_forecast =data_yield[\"Value (bu)\"][-int(round(0.2*(len(data_true)),0)):].to_numpy(dtype=float)\n"
   ]
  },
  {
   "cell_type": "code",
   "execution_count": null,
   "metadata": {},
   "outputs": [],
   "source": [
    "endog.drop(columns=[\"Encode\"],inplace=True)\n",
    "endog.drop(columns=[\"Value (bu)\"],inplace=True)"
   ]
  },
  {
   "cell_type": "code",
   "execution_count": 57,
   "metadata": {},
   "outputs": [],
   "source": [
    "# 預測未來值\n",
    "#exog_forecast = train_data_with_dummy \n",
    "forecast = model_fit.predict(start=int(round(0.8*(len(data_true)),0)), end=int(round(0.8*(len(data_true)),0))+len(exog_forecast)-1, exog=exog_forecast)\n",
    "\n"
   ]
  },
  {
   "cell_type": "code",
   "execution_count": 35,
   "metadata": {},
   "outputs": [
    {
     "data": {
      "text/plain": [
       "914"
      ]
     },
     "execution_count": 35,
     "metadata": {},
     "output_type": "execute_result"
    }
   ],
   "source": [
    "int(round(0.8*(len(data_true))))"
   ]
  },
  {
   "cell_type": "code",
   "execution_count": 50,
   "metadata": {},
   "outputs": [
    {
     "data": {
      "text/plain": [
       "229"
      ]
     },
     "execution_count": 50,
     "metadata": {},
     "output_type": "execute_result"
    }
   ],
   "source": [
    "len(exog_forecast)"
   ]
  },
  {
   "cell_type": "code",
   "execution_count": 51,
   "metadata": {},
   "outputs": [
    {
     "data": {
      "text/plain": [
       "229"
      ]
     },
     "execution_count": 51,
     "metadata": {},
     "output_type": "execute_result"
    }
   ],
   "source": [
    "len(forecast)"
   ]
  },
  {
   "cell_type": "code",
   "execution_count": 58,
   "metadata": {},
   "outputs": [],
   "source": [
    "y_test=data_yield[\"Value (bu)\"][-int(round(0.2*(len(data_true)),0)):].to_numpy(dtype=float)"
   ]
  },
  {
   "cell_type": "code",
   "execution_count": 53,
   "metadata": {},
   "outputs": [
    {
     "data": {
      "text/plain": [
       "229"
      ]
     },
     "execution_count": 53,
     "metadata": {},
     "output_type": "execute_result"
    }
   ],
   "source": [
    "len(y_test)"
   ]
  },
  {
   "cell_type": "code",
   "execution_count": 54,
   "metadata": {},
   "outputs": [],
   "source": [
    "# Creating a Function for MAPE\n",
    "import numpy as np\n",
    "\n",
    "def mape(test, pred):\n",
    "    test, pred = np.array(test), np.array(pred)\n",
    "    mape = np.mean(np.abs((test - pred) / test))\n",
    "    return mape"
   ]
  },
  {
   "cell_type": "code",
   "execution_count": 59,
   "metadata": {},
   "outputs": [
    {
     "name": "stdout",
     "output_type": "stream",
     "text": [
      "RMSE: 43916019.10095362\n",
      "MAPE: 2.4443177163785363\n",
      "R-squared: -0.8163593475962712\n"
     ]
    }
   ],
   "source": [
    "rmse = mean_squared_error(y_test, forecast, squared=False)\n",
    "\n",
    "mape_r=mape(y_test,forecast)\n",
    "\n",
    "print('RMSE:', rmse)\n",
    "print('MAPE:', mape_r)\n",
    "r2 = 1 - ((forecast - y_test) ** 2).sum() / ((y_test - y_test.mean()) ** 2).sum()\n",
    "\n",
    "print('R-squared:', r2)"
   ]
  }
 ],
 "metadata": {
  "kernelspec": {
   "display_name": "Python 3",
   "language": "python",
   "name": "python3"
  },
  "language_info": {
   "codemirror_mode": {
    "name": "ipython",
    "version": 3
   },
   "file_extension": ".py",
   "mimetype": "text/x-python",
   "name": "python",
   "nbconvert_exporter": "python",
   "pygments_lexer": "ipython3",
   "version": "3.11.2"
  },
  "orig_nbformat": 4
 },
 "nbformat": 4,
 "nbformat_minor": 2
}
