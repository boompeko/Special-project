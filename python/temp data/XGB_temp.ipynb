{
 "cells": [
  {
   "attachments": {},
   "cell_type": "markdown",
   "metadata": {},
   "source": [
    "# Prediction of Precipitation"
   ]
  },
  {
   "cell_type": "code",
   "execution_count": 7,
   "metadata": {},
   "outputs": [],
   "source": [
    "import pandas as pd\n",
    "from sklearn.metrics import mean_squared_error\n",
    "import matplotlib.pyplot as plt\n",
    "import numpy as np"
   ]
  },
  {
   "cell_type": "code",
   "execution_count": 13,
   "metadata": {},
   "outputs": [],
   "source": [
    "all = pd.read_csv(\"temp_adj.csv\")\n",
    "#future = pd.read_csv(\"X of 2023.csv\")\n",
    "#future\n",
    "\n",
    "future = pd.read_csv(\"temp_all.csv\")\n",
    "X_future = future[['Anomaly','Anomaly.1','Anomaly.2','Average Temperature_x','encode_state','Year','Month','Maximun Temperature']]\n",
    "\n"
   ]
  },
  {
   "attachments": {},
   "cell_type": "markdown",
   "metadata": {},
   "source": [
    "## XGboost"
   ]
  },
  {
   "cell_type": "code",
   "execution_count": 17,
   "metadata": {},
   "outputs": [
    {
     "name": "stdout",
     "output_type": "stream",
     "text": [
      "{'n_estimators': 400, 'max_depth': None, 'max_learning_rate': [0.1, 0.3, 0.5]} best_mse 0.02227756599641272 0.0995334906527038 best_ratio 10 best_r_2 0.9997228542255037\n",
      "[10:55:36] WARNING: C:\\buildkite-agent\\builds\\buildkite-windows-cpu-autoscaling-group-i-07593ffd91cd9da33-1\\xgboost\\xgboost-ci-windows\\src\\learner.cc:767: \n",
      "Parameters: { \"max_learning_rate\" } are not used.\n",
      "\n"
     ]
    },
    {
     "data": {
      "image/png": "[encoded data removed]",
      "text/plain": [
       "<Figure size 640x480 with 1 Axes>"
      ]
     },
     "metadata": {},
     "output_type": "display_data"
    }
   ],
   "source": [
    "import xgboost as xgb\n",
    "from sklearn.model_selection import train_test_split\n",
    "from sklearn.metrics import mean_squared_error ,r2_score\n",
    "\n",
    "\n",
    "X = all[['Anomaly','Anomaly.1','Anomaly.2','Average Temperature_x','encode_state','Year','Month','Maximun Temperature']]\n",
    "y = all['Minimum Temperature']\n",
    "dic = {0:'COLORADO',\n",
    " 1:'KANSAS',\n",
    " 2:'MINNESOTA',\n",
    " 3:'MONTANA',\n",
    " 4:'NEBRASKA',\n",
    " 5:'NORTH DAKOTA',\n",
    " 6:'OKLAHOMA',\n",
    " 7:'SOUTH DAKOTA',\n",
    " 8:'TEXAS'}\n",
    "\n",
    "\n",
    "\n",
    "n_estimators = [100,400]  # Number of trees\n",
    "max_depth = [None,10]\n",
    "learning_rate = [0.1, 0.3, 0.5]\n",
    "\n",
    "\n",
    "best_mse = float('inf')\n",
    "best_params = {}\n",
    "\n",
    "\n",
    "for ratio in range(10,100,10):\n",
    "    for estimators in n_estimators:\n",
    "        for depth in max_depth:\n",
    "            for rate in learning_rate:\n",
    "            \n",
    "                X_train, X_test, y_train, y_test = train_test_split(X, y, test_size=(ratio/100), random_state=71)\n",
    "                # 初始化回歸器並設定參數\n",
    "\n",
    "                params = {\n",
    "                    'learning_rate': rate,  # 調整的第一個參數\n",
    "                    'n_estimators': estimators,\n",
    "                    'max_depth': depth,  # 調整的第二個參數\n",
    "                    'random_state': 71\n",
    "                }\n",
    "\n",
    "                regressor = xgb.XGBRegressor(**params)\n",
    "                \n",
    "                # 訓練模型\n",
    "                regressor.fit(X_train, y_train)\n",
    "                \n",
    "                # 預測測試集\n",
    "                y_pred = regressor.predict(X_test)\n",
    "                y_pred_train = regressor.predict(X_train)\n",
    "\n",
    "                \n",
    "               # 計算均方誤差 \n",
    "                train_mse = mean_squared_error(y_pred_train, y_train)\n",
    "                \n",
    "                mse = mean_squared_error(y_test, y_pred)\n",
    "                r_2= r2_score(y_test, y_pred)\n",
    "                # 如果得到更好的結果，則更新最佳參數和最佳均方誤差\n",
    "                if mse < best_mse:\n",
    "                    best_mse = mse\n",
    "                    best_r_2 = r_2\n",
    "                    best_mse_train = train_mse\n",
    "                    best_params = {\n",
    "                        \n",
    "                        'n_estimators': estimators,\n",
    "                        'max_depth': depth,\n",
    "                        'max_learning_rate': learning_rate\n",
    "                    }\n",
    "                    best_ratio = ratio\n",
    "\n",
    "print(best_params,'best_mse',best_mse_train,best_mse,'best_ratio',best_ratio,'best_r_2',best_r_2)\n",
    "\n",
    "\n",
    "\n",
    "regressor = xgb.XGBRegressor(**best_params)\n",
    "            \n",
    "# 訓練模型\n",
    "regressor.fit(X_train, y_train)\n",
    "\n",
    "y_Fpred = regressor.predict(X_future)\n",
    "\n",
    "# 計算均方誤差\n",
    "#mse = mean_squared_error(y_future, y_Fpred)\n",
    "\n",
    "\n",
    "#print('Precipitatio_mse',mse)\n",
    "\n",
    "def plot_feature_importances(model):\n",
    "    n_features = ['Anomaly','Anomaly.1','Anomaly.2','Average Temperature_x','encode_state','Year','Month','Maximun Temperature']\n",
    "    plt.barh(n_features, model.feature_importances_, align='center')\n",
    "    plt.xlabel(\"Feature importance\")\n",
    "    plt.ylabel(\"Feature\")\n",
    "    plt.show()\n",
    "\n",
    "\n",
    "plot_feature_importances(regressor)\n",
    "\n",
    "data_list = y_Fpred.tolist()\n",
    "\n",
    "data = np.zeros((len(data_list),4))\n",
    "\n",
    "for i in range(len(data_list)):\n",
    "    data[i,0] = data_list[i]\n",
    "\n",
    "for i in range(len(data_list)):\n",
    "    data[i,1] = future['encode_state'][i]\n",
    "\n",
    "for i in range(len(data_list)):\n",
    "    data[i,2] = future['Year'][i]\n",
    "\n",
    "for i in range(len(data_list)):\n",
    "    data[i,3] = future['Month'][i]\n",
    "\n",
    "\n",
    "\n",
    "\n",
    "columns = ['forecast','encode_state','Year','Month']\n",
    "result = pd.DataFrame(columns=columns, data=data)\n",
    "result.to_csv('forecast_XGboost_min.csv',encoding = 'gbk')\n",
    "\n"
   ]
  }
 ],
 "metadata": {
  "kernelspec": {
   "display_name": "base",
   "language": "python",
   "name": "python3"
  },
  "language_info": {
   "codemirror_mode": {
    "name": "ipython",
    "version": 3
   },
   "file_extension": ".py",
   "mimetype": "text/x-python",
   "name": "python",
   "nbconvert_exporter": "python",
   "pygments_lexer": "ipython3",
   "version": "3.9.6"
  },
  "orig_nbformat": 4
 },
 "nbformat": 4,
 "nbformat_minor": 2
}
