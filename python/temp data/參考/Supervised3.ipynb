{
 "cells": [
  {
   "cell_type": "code",
   "execution_count": 1,
   "metadata": {},
   "outputs": [],
   "source": [
    "from sklearn.metrics import accuracy_score\n",
    "from sklearn.model_selection import train_test_split\n",
    "import matplotlib.pyplot as plt\n",
    "import numpy as np\n",
    "\n",
    "from sklearn.datasets import load_breast_cancer\n",
    "\n",
    "cancer = load_breast_cancer()"
   ]
  },
  {
   "cell_type": "code",
   "execution_count": 2,
   "metadata": {},
   "outputs": [
    {
     "name": "stdout",
     "output_type": "stream",
     "text": [
      "clf.score =  1.0\n",
      "accuracy score =  1.0\n"
     ]
    }
   ],
   "source": [
    "# Decision Tree\n",
    "from sklearn import tree\n",
    "X = cancer.data\n",
    "y = cancer.target\n",
    "clf = tree.DecisionTreeClassifier(random_state = 71)\n",
    "clf.fit(X,y)\n",
    "y_pred = clf.predict(X)\n",
    "print(\"clf.score = \", clf.score(X, y))\n",
    "print(\"accuracy score = \", accuracy_score(y_pred, y))"
   ]
  },
  {
   "cell_type": "code",
   "execution_count": 3,
   "metadata": {},
   "outputs": [
    {
     "name": "stdout",
     "output_type": "stream",
     "text": [
      ">10, train: 1.000, test: 0.982\n",
      ">20, train: 1.000, test: 0.939\n",
      ">30, train: 1.000, test: 0.924\n",
      ">40, train: 1.000, test: 0.930\n",
      ">50, train: 1.000, test: 0.891\n",
      ">60, train: 1.000, test: 0.877\n",
      ">70, train: 1.000, test: 0.902\n",
      ">80, train: 1.000, test: 0.910\n",
      ">90, train: 1.000, test: 0.903\n"
     ]
    },
    {
     "data": {
      "image/png": "[encoded data removed]",
      "text/plain": [
       "<Figure size 432x288 with 1 Axes>"
      ]
     },
     "metadata": {
      "needs_background": "light"
     },
     "output_type": "display_data"
    }
   ],
   "source": [
    "# Decision Tree (Split data randomly from 90~10%)\n",
    "from sklearn import tree\n",
    "X = cancer.data\n",
    "y = cancer.target\n",
    "\n",
    "ratio = 100\n",
    "ratiovalues = [i for i in range(10, ratio, 10)]\n",
    "train_scores = []\n",
    "test_scores = []\n",
    "\n",
    "for i in ratiovalues:\n",
    "    X_train, X_test, y_train, y_test = train_test_split(X, y, test_size = i/100, random_state=71)\n",
    "\n",
    "    clf = tree.DecisionTreeClassifier(random_state = 71)\n",
    "    clf.fit(X_train, y_train)\n",
    "    y_pred_train = clf.predict(X_train) #train\n",
    "    train_acc = accuracy_score(y_pred_train, y_train)\n",
    "    train_scores.append(train_acc)\n",
    "    \n",
    "    y_pred_test = clf.predict(X_test) #test\n",
    "    test_acc = accuracy_score(y_pred_test, y_test)\n",
    "    test_scores.append(test_acc)\n",
    "    \n",
    "    print('>%d, train: %.3f, test: %.3f' % (i, train_acc, test_acc))\n",
    "\n",
    "plt.plot(ratiovalues, train_scores, '-o', label='Train')\n",
    "plt.plot(ratiovalues, test_scores, '-o', label='Test')\n",
    "plt.legend()\n",
    "plt.show()"
   ]
  },
  {
   "cell_type": "code",
   "execution_count": 4,
   "metadata": {},
   "outputs": [
    {
     "name": "stdout",
     "output_type": "stream",
     "text": [
      ">1, train: 0.920, test: 0.947\n",
      ">2, train: 0.943, test: 0.930\n",
      ">3, train: 0.980, test: 0.965\n",
      ">4, train: 0.982, test: 0.965\n",
      ">5, train: 0.994, test: 0.982\n",
      ">6, train: 0.998, test: 0.982\n",
      ">7, train: 1.000, test: 0.982\n",
      ">8, train: 1.000, test: 0.982\n",
      ">9, train: 1.000, test: 0.982\n",
      ">10, train: 1.000, test: 0.982\n",
      ">11, train: 1.000, test: 0.982\n",
      ">12, train: 1.000, test: 0.982\n",
      ">13, train: 1.000, test: 0.982\n",
      ">14, train: 1.000, test: 0.982\n",
      ">15, train: 1.000, test: 0.982\n",
      ">16, train: 1.000, test: 0.982\n",
      ">17, train: 1.000, test: 0.982\n",
      ">18, train: 1.000, test: 0.982\n",
      ">19, train: 1.000, test: 0.982\n",
      ">20, train: 1.000, test: 0.982\n"
     ]
    },
    {
     "data": {
      "image/png": "[encoded data removed]",
      "text/plain": [
       "<Figure size 432x288 with 1 Axes>"
      ]
     },
     "metadata": {
      "needs_background": "light"
     },
     "output_type": "display_data"
    }
   ],
   "source": [
    "# Decision Tree (Split data randomly by 90% vs. 10% + different depth)\n",
    "from sklearn import tree\n",
    "X = cancer.data\n",
    "y = cancer.target\n",
    "\n",
    "X_train, X_test, y_train, y_test = train_test_split(X, y, test_size = 0.1, random_state=71) #train_size = 0.8\n",
    "\n",
    "depth = 21\n",
    "depthvalues = [i for i in range(1, depth)]\n",
    "train_scores = []\n",
    "test_scores = []\n",
    "\n",
    "for i in depthvalues:\n",
    "    clf = tree.DecisionTreeClassifier(random_state = 71, max_depth = i)\n",
    "    clf.fit(X_train, y_train)\n",
    "    y_pred_train = clf.predict(X_train) #train\n",
    "    train_acc = accuracy_score(y_pred_train, y_train)\n",
    "    train_scores.append(train_acc)\n",
    "    \n",
    "    y_pred_test = clf.predict(X_test) #test\n",
    "    test_acc = accuracy_score(y_pred_test, y_test)\n",
    "    test_scores.append(test_acc)\n",
    "    \n",
    "    print('>%d, train: %.3f, test: %.3f' % (i, train_acc, test_acc))\n",
    "\n",
    "plt.plot(depthvalues, train_scores, '-o', label='Train')\n",
    "plt.plot(depthvalues, test_scores, '-o', label='Test')\n",
    "plt.legend()\n",
    "plt.show()"
   ]
  },
  {
   "cell_type": "code",
   "execution_count": 5,
   "metadata": {},
   "outputs": [
    {
     "name": "stdout",
     "output_type": "stream",
     "text": [
      ">1, train: 1.000, test: 0.982\n",
      ">2, train: 0.998, test: 0.947\n",
      ">3, train: 0.982, test: 0.930\n",
      ">4, train: 0.977, test: 0.930\n",
      ">5, train: 0.977, test: 0.965\n",
      ">6, train: 0.977, test: 0.947\n",
      ">7, train: 0.975, test: 0.965\n",
      ">8, train: 0.965, test: 0.930\n",
      ">9, train: 0.965, test: 0.930\n"
     ]
    },
    {
     "data": {
      "image/png": "[encoded data removed]",
      "text/plain": [
       "<Figure size 432x288 with 1 Axes>"
      ]
     },
     "metadata": {
      "needs_background": "light"
     },
     "output_type": "display_data"
    }
   ],
   "source": [
    "# Decision Tree (Split data randomly by 90% vs. 10% + different min sample leaf)\n",
    "from sklearn import tree\n",
    "X = cancer.data\n",
    "y = cancer.target\n",
    "\n",
    "X_train, X_test, y_train, y_test = train_test_split(X, y, test_size = 0.1, random_state=71) #train_size = 0.8\n",
    "\n",
    "leaf = 10\n",
    "leafvalues = [i for i in range(1, leaf)]\n",
    "train_scores = []\n",
    "test_scores = []\n",
    "\n",
    "for i in leafvalues:\n",
    "    clf = tree.DecisionTreeClassifier(random_state = 71, min_samples_leaf = i)\n",
    "    clf.fit(X_train, y_train)\n",
    "    y_pred_train = clf.predict(X_train) #train\n",
    "    train_acc = accuracy_score(y_pred_train, y_train)\n",
    "    train_scores.append(train_acc)\n",
    "    \n",
    "    y_pred_test = clf.predict(X_test) #test\n",
    "    test_acc = accuracy_score(y_pred_test, y_test)\n",
    "    test_scores.append(test_acc)\n",
    "    \n",
    "    print('>%d, train: %.3f, test: %.3f' % (i, train_acc, test_acc))\n",
    "\n",
    "plt.plot(leafvalues, train_scores, '-o', label='Train')\n",
    "plt.plot(leafvalues, test_scores, '-o', label='Test')\n",
    "plt.legend()\n",
    "plt.show()"
   ]
  },
  {
   "cell_type": "code",
   "execution_count": 6,
   "metadata": {},
   "outputs": [
    {
     "name": "stdout",
     "output_type": "stream",
     "text": [
      "best depth: 5 best min_sample_leaf: 1 \n",
      "Training score: 0.994140625 Testing score: 0.9824561403508771\n"
     ]
    }
   ],
   "source": [
    "# Decision Tree (Split data randomly by 90% vs. 10% + different depth + different min sample leaf)\n",
    "from sklearn import tree\n",
    "X = cancer.data\n",
    "y = cancer.target\n",
    "\n",
    "X_train, X_test, y_train, y_test = train_test_split(X, y, test_size = 0.1, random_state=71) #train_size = 0.8\n",
    "\n",
    "depth = 21\n",
    "depthvalues = [i for i in range(1, depth)]\n",
    "leaf = 10\n",
    "leafvalues = [i for i in range(1, leaf)]\n",
    "relative_best_train_score = 0\n",
    "relative_best_test_score = 0\n",
    "relative_best_depth = 0\n",
    "relative_best_leaf = 0\n",
    "\n",
    "for i in depthvalues:\n",
    "    for j in leafvalues:\n",
    "        clf = tree.DecisionTreeClassifier(random_state = 71, max_depth = i, min_samples_leaf = j)\n",
    "        clf.fit(X_train, y_train)\n",
    "        y_pred_train = clf.predict(X_train) #train\n",
    "        train_acc = accuracy_score(y_pred_train, y_train)\n",
    "        y_pred_test = clf.predict(X_test) #train\n",
    "        test_acc = accuracy_score(y_pred_test, y_test)\n",
    "\n",
    "        if ((train_acc > relative_best_train_score) and (test_acc > relative_best_test_score)):\n",
    "            relative_best_train_score = train_acc\n",
    "            relative_best_test_score = test_acc\n",
    "            relative_best_depth = i\n",
    "            relative_best_leaf = j\n",
    "\n",
    "print(\"best depth:\", relative_best_depth, \"best min_sample_leaf:\", relative_best_leaf, \\\n",
    "      \"\\nTraining score:\", relative_best_train_score, \"Testing score:\", relative_best_test_score)"
   ]
  },
  {
   "cell_type": "code",
   "execution_count": null,
   "metadata": {},
   "outputs": [],
   "source": []
  }
 ],
 "metadata": {
  "kernelspec": {
   "display_name": "Python 3",
   "language": "python",
   "name": "python3"
  },
  "language_info": {
   "codemirror_mode": {
    "name": "ipython",
    "version": 3
   },
   "file_extension": ".py",
   "mimetype": "text/x-python",
   "name": "python",
   "nbconvert_exporter": "python",
   "pygments_lexer": "ipython3",
   "version": "3.7.6"
  }
 },
 "nbformat": 4,
 "nbformat_minor": 4
}
