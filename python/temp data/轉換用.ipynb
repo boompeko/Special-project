{
 "cells": [
  {
   "cell_type": "code",
   "execution_count": null,
   "metadata": {},
   "outputs": [],
   "source": [
    "## 按照年分/月份/地區排列的，轉換成年分\n",
    "\n",
    "predicted_values"
   ]
  },
  {
   "cell_type": "code",
   "execution_count": null,
   "metadata": {},
   "outputs": [],
   "source": [
    "everyyears = []\n",
    "for k in range(9):\n",
    "    yearandareas = []\n",
    "    for i in range(127):\n",
    "        ins = []\n",
    "        for j in range(12):\n",
    "            ins.append(predicted_values[i * 12 + j + k * 127 * 12])\n",
    "        yearandareas.append(ins)\n",
    "    everyyears.append(yearandareas)"
   ]
  },
  {
   "cell_type": "code",
   "execution_count": null,
   "metadata": {},
   "outputs": [],
   "source": [
    "## 每地區(0~8)->每年的順序(1896~2022)\n",
    "everyyears ## 0~8(9)、1896~2022(127)、1~12(12)\n",
    "## [9][127][12]"
   ]
  },
  {
   "cell_type": "code",
   "execution_count": null,
   "metadata": {},
   "outputs": [],
   "source": [
    "## 實際要的是2022~1896，0~8\n",
    "newcalendar = []\n",
    "for i in range(126,-1,-1):\n",
    "    thisyear = []\n",
    "    for j in range(9):\n",
    "        thisyear.append(everyyears[j][i])\n",
    "    newcalendar.append(thisyear)"
   ]
  },
  {
   "cell_type": "code",
   "execution_count": null,
   "metadata": {},
   "outputs": [],
   "source": [
    "newcalendar\n",
    "### [127][9][12]"
   ]
  },
  {
   "cell_type": "code",
   "execution_count": null,
   "metadata": {},
   "outputs": [],
   "source": [
    "neocalender = []\n",
    "for i in range(127):\n",
    "   for j in range(9):\n",
    "      templist = []\n",
    "      for k in range(12):\n",
    "         templist.append(newcalendar[i][j][k])\n",
    "      print(templist)\n",
    "      neocalender.append(templist)"
   ]
  },
  {
   "cell_type": "code",
   "execution_count": null,
   "metadata": {},
   "outputs": [],
   "source": [
    "neocalender"
   ]
  },
  {
   "cell_type": "code",
   "execution_count": null,
   "metadata": {},
   "outputs": [],
   "source": [
    "outs = pd.DataFrame(neocalender, columns = [\"Average Temperature_current_month1\", \"Average Temperature_current_month2\",\"Average Temperature_current_month3\",\"Average Temperature_current_month4\",\"Average Temperature_current_month5\",\"Average Temperature_current_month6\",\"Average Temperature_current_month7\",\"Average Temperature_current_month8\",\"Average Temperature_current_month9\",\"Average Temperature_current_month10\",\"Average Temperature_current_month11\",\"Average Temperature_current_month12\"])\n",
    "outs.to_excel('outsMIN.xlsx', sheet_name='temperatures', index=False)"
   ]
  }
 ],
 "metadata": {
  "language_info": {
   "name": "python"
  },
  "orig_nbformat": 4
 },
 "nbformat": 4,
 "nbformat_minor": 2
}
