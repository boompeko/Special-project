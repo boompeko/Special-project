{
 "cells": [
  {
   "cell_type": "code",
   "execution_count": 1,
   "metadata": {},
   "outputs": [
    {
     "name": "stdout",
     "output_type": "stream",
     "text": [
      "[[1.799e+01 1.038e+01 1.228e+02 ... 2.654e-01 4.601e-01 1.189e-01]\n",
      " [2.057e+01 1.777e+01 1.329e+02 ... 1.860e-01 2.750e-01 8.902e-02]\n",
      " [1.969e+01 2.125e+01 1.300e+02 ... 2.430e-01 3.613e-01 8.758e-02]\n",
      " ...\n",
      " [1.660e+01 2.808e+01 1.083e+02 ... 1.418e-01 2.218e-01 7.820e-02]\n",
      " [2.060e+01 2.933e+01 1.401e+02 ... 2.650e-01 4.087e-01 1.240e-01]\n",
      " [7.760e+00 2.454e+01 4.792e+01 ... 0.000e+00 2.871e-01 7.039e-02]]\n",
      "[0 0 0 0 0 0 0 0 0 0 0 0 0 0 0 0 0 0 0 1 1 1 0 0 0 0 0 0 0 0 0 0 0 0 0 0 0\n",
      " 1 0 0 0 0 0 0 0 0 1 0 1 1 1 1 1 0 0 1 0 0 1 1 1 1 0 1 0 0 1 1 1 1 0 1 0 0\n",
      " 1 0 1 0 0 1 1 1 0 0 1 0 0 0 1 1 1 0 1 1 0 0 1 1 1 0 0 1 1 1 1 0 1 1 0 1 1\n",
      " 1 1 1 1 1 1 0 0 0 1 0 0 1 1 1 0 0 1 0 1 0 0 1 0 0 1 1 0 1 1 0 1 1 1 1 0 1\n",
      " 1 1 1 1 1 1 1 1 0 1 1 1 1 0 0 1 0 1 1 0 0 1 1 0 0 1 1 1 1 0 1 1 0 0 0 1 0\n",
      " 1 0 1 1 1 0 1 1 0 0 1 0 0 0 0 1 0 0 0 1 0 1 0 1 1 0 1 0 0 0 0 1 1 0 0 1 1\n",
      " 1 0 1 1 1 1 1 0 0 1 1 0 1 1 0 0 1 0 1 1 1 1 0 1 1 1 1 1 0 1 0 0 0 0 0 0 0\n",
      " 0 0 0 0 0 0 0 1 1 1 1 1 1 0 1 0 1 1 0 1 1 0 1 0 0 1 1 1 1 1 1 1 1 1 1 1 1\n",
      " 1 0 1 1 0 1 0 1 1 1 1 1 1 1 1 1 1 1 1 1 1 0 1 1 1 0 1 0 1 1 1 1 0 0 0 1 1\n",
      " 1 1 0 1 0 1 0 1 1 1 0 1 1 1 1 1 1 1 0 0 0 1 1 1 1 1 1 1 1 1 1 1 0 0 1 0 0\n",
      " 0 1 0 0 1 1 1 1 1 0 1 1 1 1 1 0 1 1 1 0 1 1 0 0 1 1 1 1 1 1 0 1 1 1 1 1 1\n",
      " 1 0 1 1 1 1 1 0 1 1 0 1 1 1 1 1 1 1 1 1 1 1 1 0 1 0 0 1 0 1 1 1 1 1 0 1 1\n",
      " 0 1 0 1 1 0 1 0 1 1 1 1 1 1 1 1 0 0 1 1 1 1 1 1 0 1 1 1 1 1 1 1 1 1 1 0 1\n",
      " 1 1 1 1 1 1 0 1 0 1 1 0 1 1 1 1 1 0 0 1 0 1 0 1 1 1 1 1 0 1 1 0 1 0 1 0 0\n",
      " 1 1 1 0 1 1 1 1 1 1 1 1 1 1 1 0 1 0 0 1 1 1 1 1 1 1 1 1 1 1 1 1 1 1 1 1 1\n",
      " 1 1 1 1 1 1 1 0 0 0 0 0 0 1]\n"
     ]
    }
   ],
   "source": [
    "from sklearn.metrics import accuracy_score\n",
    "from sklearn.model_selection import train_test_split\n",
    "import matplotlib.pyplot as plt\n",
    "import numpy as np\n",
    "\n",
    "from sklearn.datasets import load_breast_cancer\n",
    "\n",
    "cancer = load_breast_cancer()\n",
    "\n",
    "X = cancer.data\n",
    "y = cancer.target\n",
    "\n",
    "print(X)\n",
    "print(y)"
   ]
  },
  {
   "cell_type": "code",
   "execution_count": 2,
   "metadata": {},
   "outputs": [
    {
     "name": "stdout",
     "output_type": "stream",
     "text": [
      "best ratio of testing data: 5 Testing score: 0.9655172413793104\n"
     ]
    }
   ],
   "source": [
    "# Decision Tree (Split data randomly from 90~10% + different depth + different min sample leaf)\n",
    "from sklearn import tree\n",
    "from sklearn.datasets import load_breast_cancer\n",
    "\n",
    "cancer = load_breast_cancer()\n",
    "X = cancer.data\n",
    "y = cancer.target\n",
    "\n",
    "ratio = 100\n",
    "ratiovalues = [i for i in range(5, ratio, 5)]\n",
    "relative_best_train_score = 0\n",
    "relative_best_test_score = 0\n",
    "relative_best_ratio = 0\n",
    "\n",
    "\n",
    "for k in ratiovalues:\n",
    "    X_train, X_test, y_train, y_test = train_test_split(X, y, test_size = k/100, random_state=71)\n",
    "    clf = tree.DecisionTreeClassifier(random_state = 71)\n",
    "    clf.fit(X_train, y_train)\n",
    "    y_pred_train = clf.predict(X_train) #train\n",
    "    train_acc = accuracy_score(y_pred_train, y_train)\n",
    "    y_pred_test = clf.predict(X_test) #train\n",
    "    test_acc = accuracy_score(y_pred_test, y_test)\n",
    "\n",
    "    if ((train_acc > relative_best_train_score) and (test_acc > relative_best_test_score)):\n",
    "        relative_best_train_score = train_acc\n",
    "        relative_best_test_score = test_acc\n",
    "        relative_best_ratio = k\n",
    "\n",
    "print(\"best ratio of testing data:\", relative_best_ratio, \"Testing score:\", relative_best_test_score)"
   ]
  },
  {
   "cell_type": "code",
   "execution_count": 2,
   "metadata": {},
   "outputs": [
    {
     "ename": "NameError",
     "evalue": "name 'train_test_split' is not defined",
     "output_type": "error",
     "traceback": [
      "\u001b[1;31m---------------------------------------------------------------------------\u001b[0m",
      "\u001b[1;31mNameError\u001b[0m                                 Traceback (most recent call last)",
      "Cell \u001b[1;32mIn[2], line 17\u001b[0m\n\u001b[0;32m     13\u001b[0m relative_best_ratio \u001b[39m=\u001b[39m \u001b[39m0\u001b[39m\n\u001b[0;32m     16\u001b[0m \u001b[39mfor\u001b[39;00m k \u001b[39min\u001b[39;00m ratiovalues:\n\u001b[1;32m---> 17\u001b[0m     X_train, X_test, y_train, y_test \u001b[39m=\u001b[39m train_test_split(X, y, test_size \u001b[39m=\u001b[39m k\u001b[39m/\u001b[39m\u001b[39m100\u001b[39m, random_state\u001b[39m=\u001b[39m\u001b[39m71\u001b[39m)\n\u001b[0;32m     18\u001b[0m     clf \u001b[39m=\u001b[39m RandomForestClassifier(random_state \u001b[39m=\u001b[39m \u001b[39m71\u001b[39m)\n\u001b[0;32m     19\u001b[0m     clf\u001b[39m.\u001b[39mfit(X_train, y_train)\n",
      "\u001b[1;31mNameError\u001b[0m: name 'train_test_split' is not defined"
     ]
    }
   ],
   "source": [
    "# RandomForest\n",
    "from sklearn.ensemble import RandomForestClassifier\n",
    "from sklearn.datasets import load_breast_cancer\n",
    "\n",
    "cancer = load_breast_cancer()\n",
    "X = cancer.data\n",
    "y = cancer.target\n",
    "\n",
    "ratio = 100\n",
    "ratiovalues = [i for i in range(5, ratio, 5)]\n",
    "relative_best_train_score = 0\n",
    "relative_best_test_score = 0\n",
    "relative_best_ratio = 0\n",
    "\n",
    "\n",
    "for k in ratiovalues:\n",
    "    X_train, X_test, y_train, y_test = train_test_split(X, y, test_size = k/100, random_state=71)\n",
    "    clf = RandomForestClassifier(random_state = 71)\n",
    "    clf.fit(X_train, y_train)\n",
    "    y_pred_train = clf.predict(X_train) #train\n",
    "    train_acc = accuracy_score(y_pred_train, y_train)\n",
    "    y_pred_test = clf.predict(X_test) #train\n",
    "    test_acc = accuracy_score(y_pred_test, y_test)\n",
    "\n",
    "    if ((train_acc > relative_best_train_score) and (test_acc > relative_best_test_score)):\n",
    "        relative_best_train_score = train_acc\n",
    "        relative_best_test_score = test_acc\n",
    "        relative_best_ratio = k\n",
    "\n",
    "print(\"best ratio of testing data:\", relative_best_ratio, \"Testing score:\", relative_best_test_score)"
   ]
  },
  {
   "cell_type": "code",
   "execution_count": 3,
   "metadata": {},
   "outputs": [
    {
     "ename": "ModuleNotFoundError",
     "evalue": "No module named 'xgboost'",
     "output_type": "error",
     "traceback": [
      "\u001b[1;31m---------------------------------------------------------------------------\u001b[0m",
      "\u001b[1;31mModuleNotFoundError\u001b[0m                       Traceback (most recent call last)",
      "Cell \u001b[1;32mIn[3], line 2\u001b[0m\n\u001b[0;32m      1\u001b[0m \u001b[39m# XGBoost\u001b[39;00m\n\u001b[1;32m----> 2\u001b[0m \u001b[39mfrom\u001b[39;00m \u001b[39mxgboost\u001b[39;00m\u001b[39m.\u001b[39;00m\u001b[39msklearn\u001b[39;00m \u001b[39mimport\u001b[39;00m XGBClassifier\n\u001b[0;32m      3\u001b[0m \u001b[39mfrom\u001b[39;00m \u001b[39msklearn\u001b[39;00m\u001b[39m.\u001b[39;00m\u001b[39mdatasets\u001b[39;00m \u001b[39mimport\u001b[39;00m load_breast_cancer\n\u001b[0;32m      5\u001b[0m cancer \u001b[39m=\u001b[39m load_breast_cancer()\n",
      "\u001b[1;31mModuleNotFoundError\u001b[0m: No module named 'xgboost'"
     ]
    }
   ],
   "source": [
    "# XGBoost\n",
    "from xgboost.sklearn import XGBClassifier\n",
    "from sklearn.datasets import load_breast_cancer\n",
    "\n",
    "cancer = load_breast_cancer()\n",
    "X = cancer.data\n",
    "y = cancer.target\n",
    "\n",
    "ratio = 100\n",
    "ratiovalues = [i for i in range(5, ratio, 5)]\n",
    "relative_best_train_score = 0\n",
    "relative_best_test_score = 0\n",
    "relative_best_ratio = 0\n",
    "\n",
    "\n",
    "for k in ratiovalues:\n",
    "    X_train, X_test, y_train, y_test = train_test_split(X, y, test_size = k/100, random_state=71)\n",
    "    clf = XGBClassifier(random_state = 71)\n",
    "    clf.fit(X_train, y_train)\n",
    "    y_pred_train = clf.predict(X_train) #train\n",
    "    train_acc = accuracy_score(y_pred_train, y_train)\n",
    "    y_pred_test = clf.predict(X_test) #train\n",
    "    test_acc = accuracy_score(y_pred_test, y_test)\n",
    "\n",
    "    if ((train_acc > relative_best_train_score) and (test_acc > relative_best_test_score)):\n",
    "        relative_best_train_score = train_acc\n",
    "        relative_best_test_score = test_acc\n",
    "        relative_best_ratio = k\n",
    "\n",
    "\n",
    "print(\"best ratio of testing data:\", relative_best_ratio, \"Testing score:\", relative_best_test_score)"
   ]
  },
  {
   "cell_type": "code",
   "execution_count": null,
   "metadata": {},
   "outputs": [],
   "source": [
    "# SVC\n",
    "from sklearn import svm\n",
    "X = cancer.data\n",
    "y = cancer.target\n",
    "\n",
    "ratio = 100\n",
    "ratiovalues = [i for i in range(5, ratio, 5)]\n",
    "kernelvalues = [\"rbf\", \"poly\"]#, \"sigmoid\"]\n",
    "gammavalues =[\"scale\"]#, \"auto\"]\n",
    "relative_best_train_score = 0\n",
    "relative_best_test_score = 0\n",
    "relative_best_ratio = 0\n",
    "\n",
    "\n",
    "for k in ratiovalues:\n",
    "    X_train, X_test, y_train, y_test = train_test_split(X, y, test_size = k/100, random_state=71)\n",
    "    clf = svm.SVC(random_state = 71)\n",
    "    clf.fit(X_train, y_train)\n",
    "    y_pred_train = clf.predict(X_train) #train\n",
    "    train_acc = accuracy_score(y_pred_train, y_train)\n",
    "    y_pred_test = clf.predict(X_test) #train\n",
    "    test_acc = accuracy_score(y_pred_test, y_test)\n",
    "\n",
    "    if ((train_acc > relative_best_train_score) and (test_acc > relative_best_test_score)):\n",
    "        relative_best_train_score = train_acc\n",
    "        relative_best_test_score = test_acc\n",
    "        relative_best_ratio = k\n",
    "\n",
    "print(\"best ratio of testing data:\", relative_best_ratio,  \"Testing score:\", relative_best_test_score)"
   ]
  },
  {
   "cell_type": "code",
   "execution_count": null,
   "metadata": {},
   "outputs": [],
   "source": [
    "# KNN\n",
    "from sklearn import neighbors\n",
    "X = cancer.data\n",
    "y = cancer.target\n",
    "\n",
    "ratio = 100\n",
    "ratiovalues = [i for i in range(5, ratio, 5)]\n",
    "relative_best_train_score = 0\n",
    "relative_best_test_score = 0\n",
    "relative_best_ratio = 0\n",
    "\n",
    "\n",
    "for k in ratiovalues:\n",
    "    clf = neighbors.KNeighborsClassifier(n_neighbors = i, p = j)\n",
    "    clf.fit(X_train, y_train)\n",
    "    y_pred_train = clf.predict(X_train) #train\n",
    "    train_acc = accuracy_score(y_pred_train, y_train)\n",
    "    y_pred_test = clf.predict(X_test) #train\n",
    "    test_acc = accuracy_score(y_pred_test, y_test)\n",
    "\n",
    "    if ((train_acc > relative_best_train_score) and (test_acc > relative_best_test_score)):\n",
    "        relative_best_train_score = train_acc\n",
    "        relative_best_test_score = test_acc\n",
    "        relative_best_ratio = k\n",
    "\n",
    "\n",
    "print(\"best ratio of testing data:\", relative_best_ratio, \"Testing score:\", relative_best_test_score)"
   ]
  },
  {
   "cell_type": "code",
   "execution_count": null,
   "metadata": {},
   "outputs": [],
   "source": [
    "# Logistic regression\n",
    "from sklearn.linear_model import LogisticRegression\n",
    "X = cancer.data\n",
    "y = cancer.target\n",
    "\n",
    "ratio = 100\n",
    "ratiovalues = [i for i in range(5, ratio, 5)]\n",
    "relative_best_train_score = 0\n",
    "relative_best_test_score = 0\n",
    "relative_best_ratio = 0\n",
    "\n",
    "\n",
    "for k in ratiovalues:\n",
    "    X_train, X_test, y_train, y_test = train_test_split(X, y, test_size = k/100, random_state=71)\n",
    "    clf = LogisticRegression(random_state = 71, penalty = i)\n",
    "    clf.fit(X_train, y_train)\n",
    "    y_pred_train = clf.predict(X_train) #train\n",
    "    train_acc = accuracy_score(y_pred_train, y_train)\n",
    "    y_pred_test = clf.predict(X_test) #train\n",
    "    test_acc = accuracy_score(y_pred_test, y_test)\n",
    "\n",
    "    if ((train_acc > relative_best_train_score) and (test_acc > relative_best_test_score)):\n",
    "        relative_best_train_score = train_acc\n",
    "        relative_best_test_score = test_acc\n",
    "        relative_best_ratio = k\n",
    "        \n",
    "\n",
    "print(\"best ratio of testing data:\", relative_best_ratio, \"Testing score:\", relative_best_test_score)"
   ]
  }
 ],
 "metadata": {
  "kernelspec": {
   "display_name": "Python 3",
   "language": "python",
   "name": "python3"
  },
  "language_info": {
   "codemirror_mode": {
    "name": "ipython",
    "version": 3
   },
   "file_extension": ".py",
   "mimetype": "text/x-python",
   "name": "python",
   "nbconvert_exporter": "python",
   "pygments_lexer": "ipython3",
   "version": "3.9.6"
  },
  "vscode": {
   "interpreter": {
    "hash": "b84f2e65edd096b54c56d5f7b247c0d62ae88c2e6a5533b0c28218aec6cca814"
   }
  }
 },
 "nbformat": 4,
 "nbformat_minor": 4
}
